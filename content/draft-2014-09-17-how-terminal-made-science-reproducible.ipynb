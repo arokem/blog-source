{
 "metadata": {
  "kernelspec": {
   "codemirror_mode": {
    "name": "python",
    "version": 2
   },
   "display_name": "Python 2",
   "language": "python",
   "name": "python2"
  },
  "name": "",
  "signature": "sha256:f86953def0077b78c16dfadf0ca1460731b883a68cfdbca87e78a0d16442daa5"
 },
 "nbformat": 3,
 "nbformat_minor": 0,
 "worksheets": [
  {
   "cells": [
    {
     "cell_type": "markdown",
     "metadata": {},
     "source": [
      "How Terminal.com made science really really reproducible"
     ]
    },
    {
     "cell_type": "markdown",
     "metadata": {},
     "source": [
      "Main ideas: terminal makes it easy to produce reproducible science in the buckheit and donoho sense:\n",
      "\n",
      "    \u201cAn article about a computational result is advertising, not scholarship. The actual scholarship is the full software environment code and data, that produced the result.\u201d\n",
      "    \n",
      "I can easily make a notebook that reproduces some scientific result that I have found (example?).\n",
      "\n"
     ]
    },
    {
     "cell_type": "markdown",
     "metadata": {},
     "source": []
    }
   ],
   "metadata": {}
  }
 ]
}