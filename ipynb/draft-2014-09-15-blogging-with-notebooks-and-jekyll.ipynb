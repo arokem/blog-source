{
 "metadata": {
  "kernelspec": {
   "codemirror_mode": {
    "name": "python",
    "version": 2
   },
   "display_name": "Python 2",
   "language": "python",
   "name": "python2"
  },
  "name": "",
  "signature": "sha256:5fde5b3566e0633eb884e406f758cf8bd4ed35adf191cfc443c41814046dd995"
 },
 "nbformat": 3,
 "nbformat_minor": 0,
 "worksheets": [
  {
   "cells": [
    {
     "cell_type": "markdown",
     "metadata": {},
     "source": [
      "Technical blogging with IPython notebooks and Github Pages"
     ]
    },
    {
     "cell_type": "markdown",
     "metadata": {},
     "source": [
      "The IPython notebook is a phenomenal tool for writing technical documents, illustrating quantitatives idea in a combination of text, code, and figures. Publishing these kinds of documents in a blog is quite easy, thanks to the `nbconvert` API, which converts notebook files into a variety of other formats. \n",
      "\n",
      "At the same time, Github offers a very simple publishing mechanism through the [Github Pages](https://pages.github.com/) mechanism, which uses [Jekyll](http://jekyllrb.com/) to render beautiful 'blog-aware; web-pages from Markdown.  \n",
      "\n",
      "However, these two mechanisms were not playing perfectly nice for me right out of the box. Looking around a bit I realized that though some solutions have been offered to this issue in [various](http://www.davidketcheson.info/2012/10/11/blogging_ipython_notebooks_with_jekyll.html) [places](http://jakevdp.github.io/blog/2012/10/04/blogging-with-ipython/), none of these did exactly what I wanted. I simply want  to be able to type `make upload` at the command line and have all of my notebooks just appear on the web, the web-page beatifully rendered using a template of my choice, with the code highlighted clearly, the figures all in the right place, and the math nicely rendered using mathjax. And yes - apparently I am the kind of person willing to work for three months to save myself a few keystrokes.   \n",
      "\n",
      "Not that so much work was required here. In what follows I describe the little tweaks I did to make this work reasonably well for me. Hopefully one weary web-wanderer or another will find solace in this humble page. All of the (rather simple) code I wrote is also available [here](https://github.com/arokem/arokem.github.io/blob/master/assets/scripts/nbconvert.py)"
     ]
    },
    {
     "cell_type": "markdown",
     "metadata": {},
     "source": [
      "Let's consider a toy example. This [notebook file](http://nbviewer.ipython.org/github/arokem/arokem.github.io/blob/master/scratch/ToyNotebook.ipynb) contains a few of the cases that I wanted to cover in my conversion from `.ipynb` to `.md`. It has some math, some figures, a little bit of unneccesary outputs (``) that need to be cleaned up, but other output that we want to keep, etc. "
     ]
    },
    {
     "cell_type": "markdown",
     "metadata": {},
     "source": [
      "I approach this by sub-classing the "
     ]
    },
    {
     "cell_type": "code",
     "collapsed": false,
     "input": [
      "import os\n",
      "import os.path as op\n",
      "import time\n",
      "\n",
      "import IPython.nbformat.current as nbformat\n",
      "import IPython.nbconvert as nbconvert\n",
      "\n",
      "start_py_high = '\\n\\n{% highlight python %}\\n\\n'\n",
      "end_py_high = '\\n\\n{% endhighlight %}\\n\\n'\n"
     ],
     "language": "python",
     "metadata": {},
     "outputs": [],
     "prompt_number": 4
    },
    {
     "cell_type": "code",
     "collapsed": false,
     "input": [
      "def from_file(self, f):\n",
      "    \"\"\"\n",
      "\n",
      "    \"\"\"\n",
      "\n",
      "    self._converted = super(CustomMarkdownExporter, self).from_file(f)\n",
      "    f.seek(0)\n",
      "    # This gives me the png graphics \n",
      "    self.pngs = self._converted[1]['outputs']\n",
      "    # XXX What about non \n",
      "    nb = nbformat.read(f, 'ipynb')\n",
      "    ws = nb['worksheets']\n",
      "    self.cells = ws[0]['cells']    \n",
      "\n",
      "def from_filename(self, fname): \n",
      "    \"\"\"\n",
      "    \"\"\"\n",
      "    self.fname = fname\n",
      "    self.basename = op.basename(self.fname).split('.ipynb')[0]\n",
      "    return self.from_file(file(fname))    \n",
      "\n",
      "def write_pngs(self, image_dir):\n",
      "    if len(self.pngs.items()) > 0:\n",
      "        for k, v in self.pngs.items():\n",
      "            f = file(op.join(image_dir,\n",
      "                         k.replace('output', self.basename)),  'wb')\n",
      "            f.write(v)\n",
      "        f.close()\n",
      "\n",
      "def convert_code(self, to_convert):\n",
      "    markdown = ''\n",
      "    markdown += start_py_high\n",
      "    markdown += add_newline(to_convert)\n",
      "    markdown += end_py_high\n",
      "    return markdown \n",
      "\n",
      "def convert_output(self, to_convert, prompt_number):\n",
      "    markdown = ''\n",
      "    if len(to_convert) == 0: \n",
      "        # Nothing to see here, move along\n",
      "        return markdown\n",
      "    for display_counter, output in enumerate(to_convert):\n",
      "        if (output['output_type'] == 'pyout' or\n",
      "            output['output_type'] == 'stream'):\n",
      "            # I'm always going to assume this is a matplotlib output that I\n",
      "            # want scrubbed out of existence (but still needs to be\n",
      "            # counted!):\n",
      "            if not output['text'].startswith('[<'):\n",
      "                # Add a tab in front, so that it gets rendered as 'tt':\n",
      "                markdown += '\\t' + output['text']\n",
      "        elif output['output_type'] == 'display_data':\n",
      "            markdown += add_newline(\n",
      "        '![png]({{ site.url }}/assets/images/%s/%s_%s_%s.png)\\n'%(\n",
      "                                                            self.basename,\n",
      "                                                            self.basename,\n",
      "                                                            prompt_number,\n",
      "                                                            display_counter))\n",
      "    return markdown\n",
      "\n",
      "def convert_text(self, txt):\n",
      "    \"\"\" \n",
      "    This is here so that we can latexify math\n",
      "    \"\"\"\n",
      "    new_txt = txt.replace('$', '$$')\n",
      "    # And if we've backslashed it out, that means we want it there?\n",
      "    new_text = new_txt.replace('\\$$', '$')\n",
      "    return new_text\n",
      "\n",
      "\n",
      "def convert(self):\n",
      "    markdown = ''\n",
      "    for idx, cell in enumerate(self.cells):\n",
      "        # Per convention, the first cell is always the title of the post:\n",
      "        if idx == 0:\n",
      "            self.title = cell['source']\n",
      "        else:\n",
      "            if cell['cell_type'] == 'code':\n",
      "                this_str = add_newline(self.convert_code(cell['input']))\n",
      "                this_str += add_newline(self.convert_output(cell['outputs'],\n",
      "                                                        idx))\n",
      "            elif cell['cell_type'] == 'markdown':\n",
      "                this_str = add_newline(self.convert_text(cell['source'] ))\n",
      "            markdown += this_str\n",
      "    self.markdown = markdown\n",
      "\n",
      "def add_preamble(self, title, layout='post'):\n",
      "    preamble = '---\\nlayout: %s \\ntitle:  \"%s\" \\ndate:  %s \\ncomments: true\\n---\\n'%(layout, title, self.basename[:10]) # Assume yyyy-mm-dd\n",
      "\n",
      "    self.markdown = preamble + self.markdown\n",
      "\n",
      "def add_postscript(self, ps=None):\n",
      "    \"\"\"\n",
      "    We'll want to add some text to all the notebooks, indicating where\n",
      "    you'd download them\n",
      "    \"\"\"\n",
      "    if ps is not None:\n",
      "        self.markdown = add_newline(self.markdown) + add_newline(ps)\n",
      "\n",
      "def save_markdown(self, full_path):\n",
      "    # Do it!\n",
      "    md_file = file(full_path,'w')\n",
      "    md_file.writelines(self.markdown)\n",
      "    md_file.close()"
     ],
     "language": "python",
     "metadata": {},
     "outputs": [],
     "prompt_number": 5
    },
    {
     "cell_type": "code",
     "collapsed": false,
     "input": [
      "def add_newline(this_str):\n",
      "    \"\"\" \n",
      "    Some kinda boilerplate\n",
      "    \"\"\"\n",
      "    if not this_str.endswith('\\n'):\n",
      "        return this_str + '\\n'\n",
      "    else:\n",
      "        return this_str\n",
      "    \n",
      "\n",
      "class CustomMarkdownExporter(nbconvert.MarkdownExporter):\n",
      "    \"\"\"\n",
      "    My custom markdown converter. Uses some IPython machinery, but has some\n",
      "    particular quirks\n",
      "\n",
      "\n",
      "    For my idiosyncratic use, I want to return a string with the text that\n",
      "    will be written into my output markdown file, as well as a bunch of\n",
      "    filenames to where the figures ended up being saved. \n",
      "    \"\"\"\n",
      "    def __init__(self, config=None, extra_loaders=None, **kw):\n",
      "        super(CustomMarkdownExporter, self).__init__(config=None,\n",
      "                                                     extra_loaders=None,\n",
      "                                                     **kw)\n"
     ],
     "language": "python",
     "metadata": {},
     "outputs": [],
     "prompt_number": 7
    },
    {
     "cell_type": "code",
     "collapsed": false,
     "input": [
      "CMD = CustomMarkdownExporter()"
     ],
     "language": "python",
     "metadata": {},
     "outputs": [],
     "prompt_number": 8
    },
    {
     "cell_type": "code",
     "collapsed": false,
     "input": [
      "CMD.save_markdown = save_markdown"
     ],
     "language": "python",
     "metadata": {},
     "outputs": [],
     "prompt_number": 9
    },
    {
     "cell_type": "code",
     "collapsed": false,
     "input": [
      "CMD.save_markdown()"
     ],
     "language": "python",
     "metadata": {},
     "outputs": [
      {
       "ename": "TypeError",
       "evalue": "save_markdown() takes exactly 2 arguments (0 given)",
       "output_type": "pyerr",
       "traceback": [
        "\u001b[0;31m---------------------------------------------------------------------------\u001b[0m",
        "\u001b[0;31mTypeError\u001b[0m                                 Traceback (most recent call last)",
        "\u001b[0;32m<ipython-input-12-90c1d91cdb52>\u001b[0m in \u001b[0;36m<module>\u001b[0;34m()\u001b[0m\n\u001b[0;32m----> 1\u001b[0;31m \u001b[0mCMD\u001b[0m\u001b[0;34m.\u001b[0m\u001b[0msave_markdown\u001b[0m\u001b[0;34m(\u001b[0m\u001b[0;34m)\u001b[0m\u001b[0;34m\u001b[0m\u001b[0m\n\u001b[0m",
        "\u001b[0;31mTypeError\u001b[0m: save_markdown() takes exactly 2 arguments (0 given)"
       ]
      }
     ],
     "prompt_number": 12
    },
    {
     "cell_type": "code",
     "collapsed": false,
     "input": [],
     "language": "python",
     "metadata": {},
     "outputs": []
    }
   ],
   "metadata": {}
  }
 ]
}