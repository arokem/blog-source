{
 "cells": [
  {
   "cell_type": "markdown",
   "metadata": {},
   "source": [
    "\n",
    "\n",
    "The analysis of linear systems is central for much of modern science, and understanding the tools of the trade is useful in many data-driven endeavours. \n",
    "\n",
    "One of the great victories of modern science is our deep understanding of the manner in which the world around us gets colored with the many different shades of color . This victory was achieved through a delightful combination of informal observations by many people, over a long period of time, together, and an amazing set of experiments conducted by scientists in many different fields.a\n",
    "\n",
    "\n",
    "Importantly, this is not an idle exploration of nature, just for the sake of understanding nature. A multi-billion dollar industry relies on our understanding of human color perception to create displays, screens, and even printed material that appear to have the right color of a large variety of conditions, ranging from dark rooms, to mid-day sunlight. \n",
    "\n",
    "Here, we will show how linear systems theory is direct"
   ]
  },
  {
   "cell_type": "code",
   "execution_count": null,
   "metadata": {
    "collapsed": false
   },
   "outputs": [],
   "source": []
  }
 ],
 "metadata": {
  "kernelspec": {
   "display_name": "IPython (Python 2)",
   "name": "python2"
  },
  "language_info": {
   "codemirror_mode": {
    "name": "ipython",
    "version": 2
   },
   "file_extension": ".py",
   "mimetype": "text/x-python",
   "name": "python",
   "nbconvert_exporter": "python",
   "pygments_lexer": "ipython2",
   "version": "2.7.9"
  },
  "signature": "sha256:bc6bee66baad528129cc730acd00137818d3ab6d2567fbb7802aaca0332520ce"
 },
 "nbformat": 4,
 "nbformat_minor": 0
}