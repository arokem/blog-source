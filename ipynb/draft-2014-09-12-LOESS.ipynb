{
 "metadata": {
  "kernelspec": {
   "codemirror_mode": {
    "name": "python",
    "version": 2
   },
   "display_name": "Python 2",
   "language": "python",
   "name": "python2"
  },
  "name": "",
  "signature": "sha256:66cb6ad1e23f03259826cbc1426171550f2d79bf3113f54231f86a188ead2e72"
 },
 "nbformat": 3,
 "nbformat_minor": 0,
 "worksheets": [
  {
   "cells": [
    {
     "cell_type": "markdown",
     "metadata": {},
     "source": [
      "LOESS: locally linear regression"
     ]
    },
    {
     "cell_type": "markdown",
     "metadata": {},
     "source": [
      "In 2011-2013, I was lucky enough to share an office with [Kendrick Kay](http://kendrickkay.net/). I would usually get into the lab at 9 or 9:30. Invariably, he would already be there, tapping away at the keyboard, four terminal windows neatly tiling the corners of his Macbook Air screen. I would sit down to start working, when he would look over and say: \"hey - want to talk about statistics?\". We might then launch into an hour of discussion about a variety of things. Error bars on error bars was a topic we discussed heatedly for a while. Work was delayed until a bit later, but the white board would get covered anyway. And we did eventually also manage to do [some](http://www.nature.com/nmeth/journal/vaop/ncurrent/full/nmeth.3098.html) [interesting](https://github.com/arokem/osmosis) [work](http://kendrickkay.net/KayPLoSCompBio2013.pdf) [together](http://kendrickkay.net/KayFrontiersNeuroscience2013.pdf) too. I do miss having Kendrick as an office mate, ever since he moved to Washington University in St. Louis, and I enjoy meeting him from time to time to have a beer together, and talk about statistics.\n",
      "\n",
      "Kendrick was the one who first introduced me to the LOWESS (Locally WEighted Scatterplot Smoothing) algorithm, also known as LOESS (LOcal linear regrESSion). He had gotten some good effect from using these kinds of algorithms for a variety of applications. For example, it is a fundamental step in algorithms he wrote to correct MRI images for spatial distortions due to the inhomogeneities in the field that arise when an object (a head) is placed in the MRI, and variations in these distortions that occur as the magnetic field inhomogeneities change over time, due to changes in the temperature of the gradients, movement of the subject, etc. Kendrick used the LOESS algorithm to smooth and interpolate maps of the main field of the MRI, that was measured several times per scan. The problem in this case is that the measurements of the field maps are done at a much lower resolution than the measurements of functional MRI for which the the information from the field map was used as a correcting factor. In this case, as in many other kinds of measurements, where an a-priori physical model doesn't exist (or is very complicated to specify), it is still perfectly reasonable to fit a low-parametric model, making only the assumption that the field map is spatially smooth. Therefore, a fit of a locally linear model over a dense sampling grid would be a reasonable approximation of the interpolation that would be needed to match the two scales of measurement. "
     ]
    },
    {
     "cell_type": "markdown",
     "metadata": {},
     "source": [
      "In my implementation of the algorithm, I rely on the original paper written by [William Cleveland](http://www.aliquote.org/cours/2012_biomed/biblio/Cleveland1979.pdf) and on the description provided in chapter 6 of [The Elements of Statistical Learning](http://statweb.stanford.edu/~tibs/ElemStatLearn/), which I will admiringly refer to as 'FHT', after its authors.\n"
     ]
    },
    {
     "cell_type": "code",
     "collapsed": false,
     "input": [
      "import urllib2 as url\n"
     ],
     "language": "python",
     "metadata": {},
     "outputs": [],
     "prompt_number": 24
    },
    {
     "cell_type": "code",
     "collapsed": false,
     "input": [
      "u = url.urlopen('http://api.wunderground.com/api/7086a2edcb4ae627/conditions/q/CA/San_Francisco.json')"
     ],
     "language": "python",
     "metadata": {},
     "outputs": [],
     "prompt_number": 29
    },
    {
     "cell_type": "code",
     "collapsed": false,
     "input": [
      "history_url = parsed_json['current_observation']['history_url']\n",
      "#history = url.urlopen()\n",
      "#history_string = history.read()\n",
      "#history_json = json.loads(history_string)"
     ],
     "language": "python",
     "metadata": {},
     "outputs": [],
     "prompt_number": 41
    },
    {
     "cell_type": "code",
     "collapsed": false,
     "input": [
      "history_url"
     ],
     "language": "python",
     "metadata": {},
     "outputs": [
      {
       "metadata": {},
       "output_type": "pyout",
       "prompt_number": 42,
       "text": [
        "u'http://www.wunderground.com/weatherstation/WXDailyHistory.asp?ID=KIACEDAR26'"
       ]
      }
     ],
     "prompt_number": 42
    },
    {
     "cell_type": "code",
     "collapsed": false,
     "input": [
      "import urllib2\n",
      "import json\n",
      "f = urllib2.urlopen('http://api.wunderground.com/api/7086a2edcb4ae627/geolookup/conditions/q/IA/Cedar_Rapids.json')\n",
      "json_string = f.read()\n",
      "parsed_json = json.loads(json_string)\n",
      "location = parsed_json['location']['city']\n",
      "temp_f = parsed_json['current_observation']['temp_f']\n",
      "print \"Current temperature in %s is: %s\" % (location, temp_f)\n",
      "f.close()"
     ],
     "language": "python",
     "metadata": {},
     "outputs": [
      {
       "output_type": "stream",
       "stream": "stdout",
       "text": [
        "Current temperature in Cedar Rapids is: 76.8\n"
       ]
      }
     ],
     "prompt_number": 31
    },
    {
     "cell_type": "code",
     "collapsed": false,
     "input": [
      "parsed_json['current_observation']['history_url']"
     ],
     "language": "python",
     "metadata": {},
     "outputs": [
      {
       "metadata": {},
       "output_type": "pyout",
       "prompt_number": 39,
       "text": [
        "u'http://www.wunderground.com/weatherstation/WXDailyHistory.asp?ID=KIACEDAR26'"
       ]
      }
     ],
     "prompt_number": 39
    },
    {
     "cell_type": "markdown",
     "metadata": {},
     "source": [
      "Many natural phenomena change smoothly in space and in time.\n",
      "\n",
      "The chapter in FHT in which these methods are used is called ''\n",
      "The first concept to think about is one of a kernel. Here are kernel is the effect that a "
     ]
    },
    {
     "cell_type": "code",
     "collapsed": false,
     "input": [
      "import numpy as np\n",
      "import scipy.linalg as la\n",
      "import scipy.stats as stats\n",
      "import matplotlib as mpl\n",
      "mpl.rc('font', **{'size'   : 18})\n",
      "import matplotlib.pyplot as plt\n",
      "%matplotlib inline"
     ],
     "language": "python",
     "metadata": {},
     "outputs": [],
     "prompt_number": 17
    },
    {
     "cell_type": "code",
     "collapsed": false,
     "input": [
      "def nearest_neighbors(xx, idx=None):\n",
      "    pass"
     ],
     "language": "python",
     "metadata": {},
     "outputs": [],
     "prompt_number": 19
    },
    {
     "cell_type": "code",
     "collapsed": false,
     "input": [
      "def epanechnikov(xx, idx=None):\n",
      "    \"\"\"\n",
      "    The Epanechnikov kernel estimated for xx values at indices idx (zero\n",
      "    elsewhere) \n",
      "\n",
      "    Parameters\n",
      "    ----------\n",
      "    xx: float array\n",
      "        Values of the function on which the kernel is computed. Typically,\n",
      "        these are Euclidean distances from some point x0 (see do_kernel)\n",
      "\n",
      "    idx: tuple\n",
      "        An indexing tuple pointing to the coordinates in xx for which the\n",
      "        kernel value is estimated. Default: None (all points are used!)  \n",
      "\n",
      "    Notes\n",
      "    -----\n",
      "    This is equation 6.4 in FHT chapter 6        \n",
      "    \n",
      "    \"\"\"        \n",
      "    ans = np.zeros(xx.shape)\n",
      "    ans[idx] = 0.75 * (1-xx[idx]**2)\n",
      "    return ans"
     ],
     "language": "python",
     "metadata": {},
     "outputs": [],
     "prompt_number": 20
    },
    {
     "cell_type": "code",
     "collapsed": false,
     "input": [
      "xx = np.linspace(-1,1,100)\n",
      "plt.plot(epanechnikov(xx))"
     ],
     "language": "python",
     "metadata": {},
     "outputs": [
      {
       "metadata": {},
       "output_type": "pyout",
       "prompt_number": 22,
       "text": [
        "[<matplotlib.lines.Line2D at 0x10e6d3d50>]"
       ]
      },
      {
       "metadata": {},
       "output_type": "display_data",
       "png": "[encoded data removed]",
       "text": [
        "<matplotlib.figure.Figure at 0x10e748090>"
       ]
      }
     ],
     "prompt_number": 22
    },
    {
     "cell_type": "code",
     "collapsed": false,
     "input": [
      "def tri_cube(xx, idx=None):\n",
      "    \"\"\" \n",
      "    The tri-cube kernel estimated for xx values at indices idx (zero\n",
      "    elsewhere) \n",
      "\n",
      "    Parameters\n",
      "    ----------\n",
      "    xx: float array\n",
      "        Values of the function on which the kernel is computed. Typically,\n",
      "        these are Euclidean distances from some point x0 (see do_kernel)\n",
      "\n",
      "    idx: tuple\n",
      "        An indexing tuple pointing to the coordinates in xx for which the\n",
      "        kernel value is estimated. Default: None (all points are used!)  \n",
      "\n",
      "    Notes\n",
      "    -----\n",
      "    This is equation 6.6 in FHT chapter 6        \n",
      "    \"\"\"        \n",
      "\n",
      "    ans = np.zeros(xx.shape)\n",
      "    ans[idx] = (1-np.abs(xx[idx])**3)**3\n",
      "    return ans"
     ],
     "language": "python",
     "metadata": {},
     "outputs": [],
     "prompt_number": 2
    },
    {
     "cell_type": "code",
     "collapsed": false,
     "input": [
      "def do_kernel(x0, x, l=1.0, kernel=epanechnikov):\n",
      "    \"\"\"\n",
      "    Calculate a kernel function on x in the neighborhood of x0\n",
      "\n",
      "    Parameters\n",
      "    ----------\n",
      "    x: float array\n",
      "       All values of x\n",
      "    x0: float\n",
      "       The value of x around which we evaluate the kernel\n",
      "    l: float or float array (with shape = x.shape)\n",
      "       Width parameter (metric window size)\n",
      "    \n",
      "    \"\"\"\n",
      "    # xx is the norm of x-x0. Note that we broadcast on the second axis for the\n",
      "    # nd case and then sum on the first to get the norm in each value of x:\n",
      "    xx = np.sum(np.sqrt(np.power(x-x0[:,np.newaxis], 2)), 0)\n",
      "    idx = np.where(np.abs(xx<=1))\n",
      "    return kernel(xx,idx)/l"
     ],
     "language": "python",
     "metadata": {},
     "outputs": [],
     "prompt_number": 3
    },
    {
     "cell_type": "code",
     "collapsed": false,
     "input": [
      "def bi_square(xx, idx=None):\n",
      "    \"\"\"\n",
      "    The bi-square weight function calculated over values of xx\n",
      "\n",
      "    Parameters\n",
      "    ----------\n",
      "    xx: float array\n",
      "\n",
      "    Notes\n",
      "    -----\n",
      "    This is the first equation on page 831 of [Cleveland79].\n",
      "    \"\"\"\n",
      "\n",
      "    ans = np.zeros(xx.shape)\n",
      "    ans[idx] = (1-xx[idx]**2)**2\n",
      "    return ans"
     ],
     "language": "python",
     "metadata": {},
     "outputs": [],
     "prompt_number": 4
    },
    {
     "cell_type": "code",
     "collapsed": false,
     "input": [
      "def lowess(x, w, x0, kernel=epanechnikov, l=1, robust=False):\n",
      "    \"\"\"\n",
      "    Locally linear regression with the LOWESS algorithm.\n",
      "\n",
      "    Parameters\n",
      "    ----------\n",
      "    x: float n-d array  \n",
      "       Values of x for which f(x) is known (e.g. measured). The shape of this\n",
      "       is (n, j), where n is the number the dimensions of the and j is the\n",
      "       number of distinct coordinates sampled.  \n",
      "    \n",
      "    w: float array\n",
      "       The known values of f(x) at these points. This has shape (j,) \n",
      "\n",
      "    x0: float or float array.\n",
      "        Values of x for which we estimate the value of f(x). This is either a\n",
      "        single scalar value (only possible for the 1d case, in which case f(x0)\n",
      "        is estimated for just that one value of x), or an array of shape (n, k).\n",
      "\n",
      "    kernel: callable\n",
      "        A kernel function. {'epanechnikov', 'tri_cube'}\n",
      "\n",
      "    l: float or float array with shape = x.shape\n",
      "       The metric window size for the kernel\n",
      "\n",
      "    robust: bool\n",
      "        Whether to apply the robustification procedure from [Cleveland79], page\n",
      "        831 \n",
      "        \n",
      "    Returns\n",
      "    -------\n",
      "    The function estimated at x0. \n",
      "\n",
      "    Notes\n",
      "    -----\n",
      "    The solution to this problem is given by equation 6.8 in Friedman, Hastie\n",
      "    and Tibshirani (2008). The Elements of Statistical Learning (Chapter 6).\n",
      "    \"\"\"\n",
      "\n",
      "    if robust:\n",
      "        # We use the procedure described in Cleveland\n",
      "        # Start by calling this function with robust set to false and the x0\n",
      "        # input being equal to the x input:\n",
      "        w_est = lowess(x, w, x, kernel=epanechnikov, l=1, robust=False)\n",
      "        resid = w_est - w\n",
      "        median_resid = stats.nanmedian(np.abs(resid))\n",
      "        robustness_weights = bi_square(resid/(6*median_resid))\n",
      "        # Calculate the bi-cube function on the\n",
      "        # Sub-select\n",
      "        \n",
      "    # For the case where x0 is provided as a scalar: \n",
      "    if not np.iterable(x0):\n",
      "       x0 = np.asarray([x0])\n",
      "    ans = np.zeros(x0.shape[-1]) \n",
      "    # We only need one design matrix:\n",
      "    B = np.vstack([np.ones(x.shape[-1]), x]).T\n",
      "    for idx, this_x0 in enumerate(x0.T):\n",
      "        # This is necessary in the 1d case (?):\n",
      "        if not np.iterable(this_x0):\n",
      "            this_x0 = np.asarray([this_x0])\n",
      "        # Different weighting kernel for each x0:\n",
      "        W = np.diag(do_kernel(this_x0, x, l=l, kernel=kernel))\n",
      "\n",
      "        # XXX It should be possible to calculate W outside the loop, if x0 and\n",
      "        # x are both sampled in some regular fashion (that is, if W is the same\n",
      "        # matrix in each iteration). That should save time.\n",
      "\n",
      "        if robust:\n",
      "            # We apply the robustness weights to the weighted least-squares\n",
      "            # procedure:\n",
      "            robustness_weights[np.isnan(robustness_weights)] = 0\n",
      "            W = np.dot(W, np.diag(robustness_weights))\n",
      "\n",
      "        try: \n",
      "            # Equation 6.8 in FHT:\n",
      "            BtWB = np.dot(np.dot(B.T, W), B)\n",
      "            BtW = np.dot(B.T, W)\n",
      "            # Get the params:\n",
      "            beta = np.dot(np.dot(la.inv(BtWB), BtW), w.T)\n",
      "            # Estimate the answer based on the parameters:\n",
      "            ans[idx] += beta[0] + np.dot(beta[1:], this_x0)\n",
      "        # If we are trying to sample far away from where the function is\n",
      "        # defined, we will be trying to invert a singular matrix. In that case,\n",
      "        # the regression should not work for you and you should get a nan:\n",
      "        except la.LinAlgError:\n",
      "            ans[idx] += np.nan\n",
      "\n",
      "            \n",
      "\n",
      "    return ans.T"
     ],
     "language": "python",
     "metadata": {},
     "outputs": [],
     "prompt_number": 5
    },
    {
     "cell_type": "code",
     "collapsed": false,
     "input": [
      "import numpy.testing as npt\n",
      "def test_lowess():\n",
      "    \"\"\"\n",
      "    Test 1-d local linear regression with lowess\n",
      "\n",
      "    \"\"\"\n",
      "    for l in [0.2,1.0]:\n",
      "        for kernel in [epanechnikov, tri_cube]:\n",
      "            for robust in [True, False]:\n",
      "                x = np.random.randn(100)\n",
      "                f = np.sin(x)\n",
      "                x0 = np.linspace(-1,1,10)\n",
      "                f_hat = lowess(x, f, x0, kernel=kernel, l=l, robust=robust)\n",
      "                f_real = np.sin(x0)\n",
      "                npt.assert_array_almost_equal(f_hat, f_real, decimal=1)\n",
      "\n",
      "\n",
      "def test_lowess2d(): \n",
      "    \"\"\"\n",
      "    Test the 2D case \n",
      "    \"\"\"\n",
      "    for l in [0.2,1.0]:\n",
      "        for kernel in [epanechnikov, tri_cube]:\n",
      "            for robust in [True, False]:\n",
      "                x = np.random.randn(2, 100)\n",
      "                f = -1 * np.sin(x[0]) + 0.5 * np.cos(x[1])\n",
      "                x0 = np.mgrid[-1:1:.1, -1:1:.1]\n",
      "                x0 = np.vstack([x0[0].ravel(), x0[1].ravel()])\n",
      "                f_hat = lowess(x, f, x0, kernel=kernel, l=l, robust=robust) \n",
      "                f_real = -1 * np.sin(x0[0]) + 0.5 * np.cos(x0[1])\n",
      "                npt.assert_array_almost_equal(f_hat, f_real, decimal=1)\n",
      "                                               \n",
      "\n",
      "    \n",
      "def test_lowess3d():\n",
      "     \"\"\" \n",
      "     Test local linear regression in 3d with lowess\n",
      "     \"\"\"\n",
      "\n",
      "     xyz = np.mgrid[0:1:.1,0:1:.1,0:1:.1]\n",
      "     x,y,z = xyz[0].ravel(),xyz[1].ravel(),xyz[2].ravel()\n",
      "     xyz = np.vstack([x,y,z])\n",
      "     # w = f(x,y,z)\n",
      "     w = -1 * np.sin(x) + 0.5 * np.cos(y) + np.cos(z)\n",
      "\n",
      "     # Random sample of x,y,z combinations (between -1 and 1):\n",
      "     xyz0=np.vstack([np.random.rand(2),np.random.rand(2),np.random.rand(2)])     \n",
      "\n",
      "     # lowess3d is used to find the values at these sampling points:\n",
      "     w0 = lowess(xyz,w,xyz0)\n",
      "\n",
      "     # evaluate f(x,y,z) in the uniformly sampled points:\n",
      "     w0actual =-1 * np.sin(xyz0[0]) + 0.5 * np.cos(xyz0[1]) + np.cos(xyz0[2])\n",
      "     # This will be undefined in manay places \n",
      "     npt.assert_array_almost_equal(w0, w0actual, decimal=1)"
     ],
     "language": "python",
     "metadata": {},
     "outputs": [],
     "prompt_number": 8
    },
    {
     "cell_type": "code",
     "collapsed": false,
     "input": [
      "test_lowess()\n",
      "test_lowess2d()\n",
      "test_lowess3d()"
     ],
     "language": "python",
     "metadata": {},
     "outputs": [],
     "prompt_number": 9
    },
    {
     "cell_type": "code",
     "collapsed": false,
     "input": [
      "import matplotlib.pyplot as plt\n",
      "from mpl_toolkits.mplot3d import Axes3D\n",
      "%matplotlib inline"
     ],
     "language": "python",
     "metadata": {},
     "outputs": [],
     "prompt_number": 10
    },
    {
     "cell_type": "code",
     "collapsed": false,
     "input": [
      "# For the 1D case:\n",
      "x = np.random.randn(100)\n",
      "f = np.cos(x) + 0.2 * np.random.randn(100)\n",
      "x0 = np.linspace(-1,1,10)\n",
      "f_hat = lowess(x, f, x0)\n",
      "fig,ax = plt.subplots(1)\n",
      "ax.scatter(x,f)\n",
      "ax.plot(x0,f_hat,'ro')\n",
      "plt.show()\n",
      "\n",
      "# 2D case (and more...)\n",
      "x = np.random.randn(2, 100)\n",
      "f = -1 * np.sin(x[0]) + 0.5 * np.cos(x[1]) + 0.2*np.random.randn(100)\n",
      "x0 = np.mgrid[-1:1:.1, -1:1:.1]\n",
      "x0 = np.vstack([x0[0].ravel(), x0[1].ravel()])\n",
      "f_hat = lowess(x, f, x0, kernel=tri_cube)\n",
      "fig = plt.figure()\n",
      "ax = fig.add_subplot(111, projection='3d')\n",
      "ax.scatter(x[0], x[1], f)\n",
      "ax.scatter(x0[0], x0[1], f_hat, color='r')"
     ],
     "language": "python",
     "metadata": {},
     "outputs": [
      {
       "metadata": {},
       "output_type": "display_data",
       "png": "[encoded data removed]",
       "text": [
        "<matplotlib.figure.Figure at 0x10e6d96d0>"
       ]
      },
      {
       "metadata": {},
       "output_type": "pyout",
       "prompt_number": 11,
       "text": [
        "<mpl_toolkits.mplot3d.art3d.Patch3DCollection at 0x10e70e910>"
       ]
      },
      {
       "metadata": {},
       "output_type": "display_data",
       "png": "[encoded data removed]",
       "text": [
        "<matplotlib.figure.Figure at 0x10e6f3e10>"
       ]
      }
     ],
     "prompt_number": 11
    },
    {
     "cell_type": "markdown",
     "metadata": {},
     "source": [
      "If you want to learn from Kendrick too, I highly recommend taking a look at the videos from a course he taught during his time at Stanford, which you can find [here](https://talks.stanford.edu/psychology/psych-216a/). "
     ]
    }
   ],
   "metadata": {}
  }
 ]
}